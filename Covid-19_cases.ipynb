{
 "cells": [
  {
   "cell_type": "markdown",
   "metadata": {},
   "source": [
    "# Forecasting Time Series data with Prophet - Predict Covid-19 Cases\n",
    "\n",
    "We will predict Covid-19 cases using Novel Corona Virus 2019 dataset with Prophet library. The Prophet library is an open-source library developed by Facebook and designed for making forecasts for univariate time series datasets.\n",
    "\n",
    "**Dataset:** https://www.kaggle.com/sudalairajkumar/novel-corona-virus-2019-dataset\n",
    "\n",
    "covid_19_data.csv file contains 8 columns which are:\n",
    "\n",
    "   - Sno: Serial Number\n",
    "   - ObservationDate - Date of the observation in MM/DD/YYYY\n",
    "   - Province/State - Province or state of the observation\n",
    "   - Country/Region - Country of observation\n",
    "   - Last Update - Time in UTC at which the row is updated for the given province or country.\n",
    "   - Confirmed - Cumulative number of confirmed cases till that date\n",
    "   - Deaths - Cumulative number of of deaths till that date\n",
    "   - Recovered - Cumulative number of recovered cases till that date\n",
    "\n"
   ]
  },
  {
   "cell_type": "markdown",
   "metadata": {},
   "source": [
    "## Libraries"
   ]
  },
  {
   "cell_type": "code",
   "execution_count": 44,
   "metadata": {},
   "outputs": [
    {
     "name": "stdout",
     "output_type": "stream",
     "text": [
      "Requirement already satisfied: pystan in /Library/Frameworks/Python.framework/Versions/3.8/lib/python3.8/site-packages (2.19.1.1)\n",
      "Requirement already satisfied: numpy>=1.7 in /Users/cerencicek/Library/Python/3.8/lib/python/site-packages (from pystan) (1.19.5)\n",
      "Requirement already satisfied: Cython!=0.25.1,>=0.22 in /Library/Frameworks/Python.framework/Versions/3.8/lib/python3.8/site-packages (from pystan) (0.29.21)\n",
      "Requirement already satisfied: fbprophet in /Library/Frameworks/Python.framework/Versions/3.8/lib/python3.8/site-packages (0.7.1)\n",
      "Requirement already satisfied: Cython>=0.22 in /Library/Frameworks/Python.framework/Versions/3.8/lib/python3.8/site-packages (from fbprophet) (0.29.21)\n",
      "Requirement already satisfied: cmdstanpy==0.9.5 in /Library/Frameworks/Python.framework/Versions/3.8/lib/python3.8/site-packages (from fbprophet) (0.9.5)\n",
      "Requirement already satisfied: pystan>=2.14 in /Library/Frameworks/Python.framework/Versions/3.8/lib/python3.8/site-packages (from fbprophet) (2.19.1.1)\n",
      "Requirement already satisfied: numpy>=1.15.4 in /Users/cerencicek/Library/Python/3.8/lib/python/site-packages (from fbprophet) (1.19.5)\n",
      "Requirement already satisfied: pandas>=1.0.4 in /Users/cerencicek/Library/Python/3.8/lib/python/site-packages (from fbprophet) (1.2.0)\n",
      "Requirement already satisfied: matplotlib>=2.0.0 in /Users/cerencicek/Library/Python/3.8/lib/python/site-packages (from fbprophet) (3.3.3)\n",
      "Requirement already satisfied: LunarCalendar>=0.0.9 in /Library/Frameworks/Python.framework/Versions/3.8/lib/python3.8/site-packages (from fbprophet) (0.0.9)\n",
      "Requirement already satisfied: convertdate>=2.1.2 in /Library/Frameworks/Python.framework/Versions/3.8/lib/python3.8/site-packages (from fbprophet) (2.2.0)\n",
      "Requirement already satisfied: holidays>=0.10.2 in /Library/Frameworks/Python.framework/Versions/3.8/lib/python3.8/site-packages (from fbprophet) (0.10.4)\n",
      "Requirement already satisfied: setuptools-git>=1.2 in /Library/Frameworks/Python.framework/Versions/3.8/lib/python3.8/site-packages (from fbprophet) (1.2)\n",
      "Requirement already satisfied: python-dateutil>=2.8.0 in /Library/Frameworks/Python.framework/Versions/3.8/lib/python3.8/site-packages (from fbprophet) (2.8.1)\n",
      "Requirement already satisfied: tqdm>=4.36.1 in /Library/Frameworks/Python.framework/Versions/3.8/lib/python3.8/site-packages (from fbprophet) (4.56.0)\n",
      "Requirement already satisfied: pymeeus<=1,>=0.3.6 in /Library/Frameworks/Python.framework/Versions/3.8/lib/python3.8/site-packages (from convertdate>=2.1.2->fbprophet) (0.3.7)\n",
      "Requirement already satisfied: pytz<2020,>=2014.10 in /Library/Frameworks/Python.framework/Versions/3.8/lib/python3.8/site-packages (from convertdate>=2.1.2->fbprophet) (2019.3)\n",
      "Requirement already satisfied: six in /Library/Frameworks/Python.framework/Versions/3.8/lib/python3.8/site-packages (from holidays>=0.10.2->fbprophet) (1.15.0)\n",
      "Requirement already satisfied: korean_lunar_calendar in /Library/Frameworks/Python.framework/Versions/3.8/lib/python3.8/site-packages (from holidays>=0.10.2->fbprophet) (0.2.1)\n",
      "Requirement already satisfied: ephem>=3.7.5.3 in /Library/Frameworks/Python.framework/Versions/3.8/lib/python3.8/site-packages (from LunarCalendar>=0.0.9->fbprophet) (3.7.7.1)\n",
      "Requirement already satisfied: pillow>=6.2.0 in /Users/cerencicek/Library/Python/3.8/lib/python/site-packages (from matplotlib>=2.0.0->fbprophet) (8.1.0)\n",
      "Requirement already satisfied: pyparsing!=2.0.4,!=2.1.2,!=2.1.6,>=2.0.3 in /Library/Frameworks/Python.framework/Versions/3.8/lib/python3.8/site-packages (from matplotlib>=2.0.0->fbprophet) (2.4.7)\n",
      "Requirement already satisfied: kiwisolver>=1.0.1 in /Users/cerencicek/Library/Python/3.8/lib/python/site-packages (from matplotlib>=2.0.0->fbprophet) (1.3.1)\n",
      "Requirement already satisfied: cycler>=0.10 in /Users/cerencicek/Library/Python/3.8/lib/python/site-packages (from matplotlib>=2.0.0->fbprophet) (0.10.0)\n"
     ]
    }
   ],
   "source": [
    "!pip install pystan\n",
    "!pip install fbprophet"
   ]
  },
  {
   "cell_type": "code",
   "execution_count": 45,
   "metadata": {},
   "outputs": [],
   "source": [
    "import warnings\n",
    "import fbprophet\n",
    "import import_ipynb\n",
    "import numpy as np\n",
    "import pandas as pd\n",
    "from fbprophet import Prophet\n",
    "import matplotlib.pyplot as plt\n",
    "from fbprophet.diagnostics import cross_validation\n",
    "from fbprophet.plot import add_changepoints_to_plot\n",
    "from fbprophet.plot import plot_cross_validation_metric\n",
    "from fbprophet.diagnostics import performance_metrics\n",
    "warnings.filterwarnings(\"ignore\")"
   ]
  },
  {
   "cell_type": "markdown",
   "metadata": {},
   "source": [
    "## Import Data"
   ]
  },
  {
   "cell_type": "code",
   "execution_count": 46,
   "metadata": {},
   "outputs": [],
   "source": [
    "df = pd.read_csv('Dataset/covid_19_data.csv')"
   ]
  },
  {
   "cell_type": "markdown",
   "metadata": {},
   "source": [
    "Return 5 rows of our data"
   ]
  },
  {
   "cell_type": "code",
   "execution_count": 47,
   "metadata": {
    "scrolled": true
   },
   "outputs": [
    {
     "data": {
      "text/html": [
       "<div>\n",
       "<style scoped>\n",
       "    .dataframe tbody tr th:only-of-type {\n",
       "        vertical-align: middle;\n",
       "    }\n",
       "\n",
       "    .dataframe tbody tr th {\n",
       "        vertical-align: top;\n",
       "    }\n",
       "\n",
       "    .dataframe thead th {\n",
       "        text-align: right;\n",
       "    }\n",
       "</style>\n",
       "<table border=\"1\" class=\"dataframe\">\n",
       "  <thead>\n",
       "    <tr style=\"text-align: right;\">\n",
       "      <th></th>\n",
       "      <th>SNo</th>\n",
       "      <th>ObservationDate</th>\n",
       "      <th>Province/State</th>\n",
       "      <th>Country/Region</th>\n",
       "      <th>Last Update</th>\n",
       "      <th>Confirmed</th>\n",
       "      <th>Deaths</th>\n",
       "      <th>Recovered</th>\n",
       "    </tr>\n",
       "  </thead>\n",
       "  <tbody>\n",
       "    <tr>\n",
       "      <th>0</th>\n",
       "      <td>1</td>\n",
       "      <td>01/22/2020</td>\n",
       "      <td>Anhui</td>\n",
       "      <td>Mainland China</td>\n",
       "      <td>1/22/2020 17:00</td>\n",
       "      <td>1.0</td>\n",
       "      <td>0.0</td>\n",
       "      <td>0.0</td>\n",
       "    </tr>\n",
       "    <tr>\n",
       "      <th>1</th>\n",
       "      <td>2</td>\n",
       "      <td>01/22/2020</td>\n",
       "      <td>Beijing</td>\n",
       "      <td>Mainland China</td>\n",
       "      <td>1/22/2020 17:00</td>\n",
       "      <td>14.0</td>\n",
       "      <td>0.0</td>\n",
       "      <td>0.0</td>\n",
       "    </tr>\n",
       "    <tr>\n",
       "      <th>2</th>\n",
       "      <td>3</td>\n",
       "      <td>01/22/2020</td>\n",
       "      <td>Chongqing</td>\n",
       "      <td>Mainland China</td>\n",
       "      <td>1/22/2020 17:00</td>\n",
       "      <td>6.0</td>\n",
       "      <td>0.0</td>\n",
       "      <td>0.0</td>\n",
       "    </tr>\n",
       "    <tr>\n",
       "      <th>3</th>\n",
       "      <td>4</td>\n",
       "      <td>01/22/2020</td>\n",
       "      <td>Fujian</td>\n",
       "      <td>Mainland China</td>\n",
       "      <td>1/22/2020 17:00</td>\n",
       "      <td>1.0</td>\n",
       "      <td>0.0</td>\n",
       "      <td>0.0</td>\n",
       "    </tr>\n",
       "    <tr>\n",
       "      <th>4</th>\n",
       "      <td>5</td>\n",
       "      <td>01/22/2020</td>\n",
       "      <td>Gansu</td>\n",
       "      <td>Mainland China</td>\n",
       "      <td>1/22/2020 17:00</td>\n",
       "      <td>0.0</td>\n",
       "      <td>0.0</td>\n",
       "      <td>0.0</td>\n",
       "    </tr>\n",
       "  </tbody>\n",
       "</table>\n",
       "</div>"
      ],
      "text/plain": [
       "   SNo ObservationDate Province/State  Country/Region      Last Update  \\\n",
       "0    1      01/22/2020          Anhui  Mainland China  1/22/2020 17:00   \n",
       "1    2      01/22/2020        Beijing  Mainland China  1/22/2020 17:00   \n",
       "2    3      01/22/2020      Chongqing  Mainland China  1/22/2020 17:00   \n",
       "3    4      01/22/2020         Fujian  Mainland China  1/22/2020 17:00   \n",
       "4    5      01/22/2020          Gansu  Mainland China  1/22/2020 17:00   \n",
       "\n",
       "   Confirmed  Deaths  Recovered  \n",
       "0        1.0     0.0        0.0  \n",
       "1       14.0     0.0        0.0  \n",
       "2        6.0     0.0        0.0  \n",
       "3        1.0     0.0        0.0  \n",
       "4        0.0     0.0        0.0  "
      ]
     },
     "execution_count": 47,
     "metadata": {},
     "output_type": "execute_result"
    }
   ],
   "source": [
    "df.head()"
   ]
  },
  {
   "cell_type": "code",
   "execution_count": 48,
   "metadata": {},
   "outputs": [
    {
     "data": {
      "text/plain": [
       "(205951, 8)"
      ]
     },
     "execution_count": 48,
     "metadata": {},
     "output_type": "execute_result"
    }
   ],
   "source": [
    "df.shape"
   ]
  },
  {
   "cell_type": "markdown",
   "metadata": {},
   "source": [
    "The dataset contains **205,951** entries"
   ]
  },
  {
   "cell_type": "markdown",
   "metadata": {},
   "source": [
    "## Explore Data"
   ]
  },
  {
   "cell_type": "code",
   "execution_count": 49,
   "metadata": {},
   "outputs": [
    {
     "name": "stdout",
     "output_type": "stream",
     "text": [
      "<class 'pandas.core.frame.DataFrame'>\n",
      "RangeIndex: 205951 entries, 0 to 205950\n",
      "Data columns (total 8 columns):\n",
      " #   Column           Non-Null Count   Dtype  \n",
      "---  ------           --------------   -----  \n",
      " 0   SNo              205951 non-null  int64  \n",
      " 1   ObservationDate  205951 non-null  object \n",
      " 2   Province/State   150574 non-null  object \n",
      " 3   Country/Region   205951 non-null  object \n",
      " 4   Last Update      205951 non-null  object \n",
      " 5   Confirmed        205951 non-null  float64\n",
      " 6   Deaths           205951 non-null  float64\n",
      " 7   Recovered        205951 non-null  float64\n",
      "dtypes: float64(3), int64(1), object(4)\n",
      "memory usage: 12.6+ MB\n"
     ]
    }
   ],
   "source": [
    "df.info()"
   ]
  },
  {
   "cell_type": "markdown",
   "metadata": {},
   "source": [
    "We can see data type of every column above. The ObservationDate column's type is **object** but we should turn it to **time** format."
   ]
  },
  {
   "cell_type": "code",
   "execution_count": 50,
   "metadata": {},
   "outputs": [],
   "source": [
    "df['ObservationDate'] = pd.to_datetime(df['ObservationDate'])"
   ]
  },
  {
   "cell_type": "code",
   "execution_count": 51,
   "metadata": {},
   "outputs": [
    {
     "name": "stdout",
     "output_type": "stream",
     "text": [
      "<class 'pandas.core.frame.DataFrame'>\n",
      "RangeIndex: 205951 entries, 0 to 205950\n",
      "Data columns (total 8 columns):\n",
      " #   Column           Non-Null Count   Dtype         \n",
      "---  ------           --------------   -----         \n",
      " 0   SNo              205951 non-null  int64         \n",
      " 1   ObservationDate  205951 non-null  datetime64[ns]\n",
      " 2   Province/State   150574 non-null  object        \n",
      " 3   Country/Region   205951 non-null  object        \n",
      " 4   Last Update      205951 non-null  object        \n",
      " 5   Confirmed        205951 non-null  float64       \n",
      " 6   Deaths           205951 non-null  float64       \n",
      " 7   Recovered        205951 non-null  float64       \n",
      "dtypes: datetime64[ns](1), float64(3), int64(1), object(3)\n",
      "memory usage: 12.6+ MB\n"
     ]
    }
   ],
   "source": [
    "df.info()"
   ]
  },
  {
   "cell_type": "markdown",
   "metadata": {},
   "source": [
    "## Data Preprocessing"
   ]
  },
  {
   "cell_type": "markdown",
   "metadata": {},
   "source": [
    "Now look if we have any null values"
   ]
  },
  {
   "cell_type": "code",
   "execution_count": 52,
   "metadata": {
    "scrolled": false
   },
   "outputs": [
    {
     "data": {
      "text/plain": [
       "SNo                    0\n",
       "ObservationDate        0\n",
       "Province/State     55377\n",
       "Country/Region         0\n",
       "Last Update            0\n",
       "Confirmed              0\n",
       "Deaths                 0\n",
       "Recovered              0\n",
       "dtype: int64"
      ]
     },
     "execution_count": 52,
     "metadata": {},
     "output_type": "execute_result"
    }
   ],
   "source": [
    "df.isnull().sum()"
   ]
  },
  {
   "cell_type": "markdown",
   "metadata": {},
   "source": [
    "The **'Province/State'** attribute contains null values. Drop these values and check again."
   ]
  },
  {
   "cell_type": "code",
   "execution_count": 53,
   "metadata": {},
   "outputs": [],
   "source": [
    "df.dropna(inplace=True)"
   ]
  },
  {
   "cell_type": "code",
   "execution_count": 54,
   "metadata": {},
   "outputs": [
    {
     "data": {
      "text/plain": [
       "SNo                0\n",
       "ObservationDate    0\n",
       "Province/State     0\n",
       "Country/Region     0\n",
       "Last Update        0\n",
       "Confirmed          0\n",
       "Deaths             0\n",
       "Recovered          0\n",
       "dtype: int64"
      ]
     },
     "execution_count": 54,
     "metadata": {},
     "output_type": "execute_result"
    }
   ],
   "source": [
    "df.isnull().sum()"
   ]
  },
  {
   "cell_type": "markdown",
   "metadata": {},
   "source": [
    "Check the number of unique dates"
   ]
  },
  {
   "cell_type": "code",
   "execution_count": 55,
   "metadata": {},
   "outputs": [
    {
     "data": {
      "text/plain": [
       "364"
      ]
     },
     "execution_count": 55,
     "metadata": {},
     "output_type": "execute_result"
    }
   ],
   "source": [
    "len(df.ObservationDate.unique())"
   ]
  },
  {
   "cell_type": "code",
   "execution_count": 56,
   "metadata": {},
   "outputs": [
    {
     "data": {
      "text/plain": [
       "Index(['SNo', 'ObservationDate', 'Province/State', 'Country/Region',\n",
       "       'Last Update', 'Confirmed', 'Deaths', 'Recovered'],\n",
       "      dtype='object')"
      ]
     },
     "execution_count": 56,
     "metadata": {},
     "output_type": "execute_result"
    }
   ],
   "source": [
    "df.columns"
   ]
  },
  {
   "cell_type": "markdown",
   "metadata": {},
   "source": [
    "Now group data by date attribute "
   ]
  },
  {
   "cell_type": "code",
   "execution_count": 57,
   "metadata": {},
   "outputs": [],
   "source": [
    "data = df.groupby(['ObservationDate'])['Confirmed', 'Deaths', 'Recovered'].sum().reset_index()"
   ]
  },
  {
   "cell_type": "code",
   "execution_count": 58,
   "metadata": {},
   "outputs": [
    {
     "data": {
      "text/html": [
       "<div>\n",
       "<style scoped>\n",
       "    .dataframe tbody tr th:only-of-type {\n",
       "        vertical-align: middle;\n",
       "    }\n",
       "\n",
       "    .dataframe tbody tr th {\n",
       "        vertical-align: top;\n",
       "    }\n",
       "\n",
       "    .dataframe thead th {\n",
       "        text-align: right;\n",
       "    }\n",
       "</style>\n",
       "<table border=\"1\" class=\"dataframe\">\n",
       "  <thead>\n",
       "    <tr style=\"text-align: right;\">\n",
       "      <th></th>\n",
       "      <th>ObservationDate</th>\n",
       "      <th>Confirmed</th>\n",
       "      <th>Deaths</th>\n",
       "      <th>Recovered</th>\n",
       "    </tr>\n",
       "  </thead>\n",
       "  <tbody>\n",
       "    <tr>\n",
       "      <th>0</th>\n",
       "      <td>2020-01-22</td>\n",
       "      <td>550.0</td>\n",
       "      <td>17.0</td>\n",
       "      <td>28.0</td>\n",
       "    </tr>\n",
       "    <tr>\n",
       "      <th>1</th>\n",
       "      <td>2020-01-23</td>\n",
       "      <td>1088.0</td>\n",
       "      <td>34.0</td>\n",
       "      <td>58.0</td>\n",
       "    </tr>\n",
       "    <tr>\n",
       "      <th>2</th>\n",
       "      <td>2020-01-24</td>\n",
       "      <td>925.0</td>\n",
       "      <td>26.0</td>\n",
       "      <td>36.0</td>\n",
       "    </tr>\n",
       "    <tr>\n",
       "      <th>3</th>\n",
       "      <td>2020-01-25</td>\n",
       "      <td>1411.0</td>\n",
       "      <td>42.0</td>\n",
       "      <td>39.0</td>\n",
       "    </tr>\n",
       "    <tr>\n",
       "      <th>4</th>\n",
       "      <td>2020-01-26</td>\n",
       "      <td>2085.0</td>\n",
       "      <td>56.0</td>\n",
       "      <td>49.0</td>\n",
       "    </tr>\n",
       "  </tbody>\n",
       "</table>\n",
       "</div>"
      ],
      "text/plain": [
       "  ObservationDate  Confirmed  Deaths  Recovered\n",
       "0      2020-01-22      550.0    17.0       28.0\n",
       "1      2020-01-23     1088.0    34.0       58.0\n",
       "2      2020-01-24      925.0    26.0       36.0\n",
       "3      2020-01-25     1411.0    42.0       39.0\n",
       "4      2020-01-26     2085.0    56.0       49.0"
      ]
     },
     "execution_count": 58,
     "metadata": {},
     "output_type": "execute_result"
    }
   ],
   "source": [
    "data.head()"
   ]
  },
  {
   "cell_type": "markdown",
   "metadata": {},
   "source": [
    "As seen above, the dataset grouped by date information."
   ]
  },
  {
   "cell_type": "markdown",
   "metadata": {},
   "source": [
    "To fit our data, the dataframe should have a specific format. The date column must be named 'ds' and be the first column. The second column must be named 'y' and contain observations. We will rename our column names."
   ]
  },
  {
   "cell_type": "code",
   "execution_count": 59,
   "metadata": {},
   "outputs": [],
   "source": [
    "prophet_df = data.rename(columns={'ObservationDate':'ds', 'Confirmed':'y'})"
   ]
  },
  {
   "cell_type": "code",
   "execution_count": 60,
   "metadata": {},
   "outputs": [
    {
     "data": {
      "text/html": [
       "<div>\n",
       "<style scoped>\n",
       "    .dataframe tbody tr th:only-of-type {\n",
       "        vertical-align: middle;\n",
       "    }\n",
       "\n",
       "    .dataframe tbody tr th {\n",
       "        vertical-align: top;\n",
       "    }\n",
       "\n",
       "    .dataframe thead th {\n",
       "        text-align: right;\n",
       "    }\n",
       "</style>\n",
       "<table border=\"1\" class=\"dataframe\">\n",
       "  <thead>\n",
       "    <tr style=\"text-align: right;\">\n",
       "      <th></th>\n",
       "      <th>ds</th>\n",
       "      <th>y</th>\n",
       "      <th>Deaths</th>\n",
       "      <th>Recovered</th>\n",
       "    </tr>\n",
       "  </thead>\n",
       "  <tbody>\n",
       "    <tr>\n",
       "      <th>0</th>\n",
       "      <td>2020-01-22</td>\n",
       "      <td>550.0</td>\n",
       "      <td>17.0</td>\n",
       "      <td>28.0</td>\n",
       "    </tr>\n",
       "    <tr>\n",
       "      <th>1</th>\n",
       "      <td>2020-01-23</td>\n",
       "      <td>1088.0</td>\n",
       "      <td>34.0</td>\n",
       "      <td>58.0</td>\n",
       "    </tr>\n",
       "    <tr>\n",
       "      <th>2</th>\n",
       "      <td>2020-01-24</td>\n",
       "      <td>925.0</td>\n",
       "      <td>26.0</td>\n",
       "      <td>36.0</td>\n",
       "    </tr>\n",
       "    <tr>\n",
       "      <th>3</th>\n",
       "      <td>2020-01-25</td>\n",
       "      <td>1411.0</td>\n",
       "      <td>42.0</td>\n",
       "      <td>39.0</td>\n",
       "    </tr>\n",
       "    <tr>\n",
       "      <th>4</th>\n",
       "      <td>2020-01-26</td>\n",
       "      <td>2085.0</td>\n",
       "      <td>56.0</td>\n",
       "      <td>49.0</td>\n",
       "    </tr>\n",
       "  </tbody>\n",
       "</table>\n",
       "</div>"
      ],
      "text/plain": [
       "          ds       y  Deaths  Recovered\n",
       "0 2020-01-22   550.0    17.0       28.0\n",
       "1 2020-01-23  1088.0    34.0       58.0\n",
       "2 2020-01-24   925.0    26.0       36.0\n",
       "3 2020-01-25  1411.0    42.0       39.0\n",
       "4 2020-01-26  2085.0    56.0       49.0"
      ]
     },
     "execution_count": 60,
     "metadata": {},
     "output_type": "execute_result"
    }
   ],
   "source": [
    "prophet_df.head()"
   ]
  },
  {
   "cell_type": "markdown",
   "metadata": {},
   "source": [
    "Define the model"
   ]
  },
  {
   "cell_type": "code",
   "execution_count": 61,
   "metadata": {},
   "outputs": [],
   "source": [
    "prophet = Prophet()"
   ]
  },
  {
   "cell_type": "markdown",
   "metadata": {},
   "source": [
    "Fit the model"
   ]
  },
  {
   "cell_type": "code",
   "execution_count": 62,
   "metadata": {},
   "outputs": [
    {
     "name": "stderr",
     "output_type": "stream",
     "text": [
      "INFO:fbprophet:Disabling yearly seasonality. Run prophet with yearly_seasonality=True to override this.\n",
      "INFO:fbprophet:Disabling daily seasonality. Run prophet with daily_seasonality=True to override this.\n"
     ]
    }
   ],
   "source": [
    "model = prophet.fit(prophet_df)"
   ]
  },
  {
   "cell_type": "markdown",
   "metadata": {},
   "source": [
    "We will use 'make_future_dataframe' to make dataframe with future dates for forecasting. The periods argument takes the number of periods to forecast forward and freq stands for period type like day, month, week, year and etc..."
   ]
  },
  {
   "cell_type": "code",
   "execution_count": 63,
   "metadata": {},
   "outputs": [],
   "source": [
    "future_dataframe = model.make_future_dataframe(periods=90, freq='D')"
   ]
  },
  {
   "cell_type": "code",
   "execution_count": 64,
   "metadata": {
    "scrolled": true
   },
   "outputs": [
    {
     "data": {
      "text/html": [
       "<div>\n",
       "<style scoped>\n",
       "    .dataframe tbody tr th:only-of-type {\n",
       "        vertical-align: middle;\n",
       "    }\n",
       "\n",
       "    .dataframe tbody tr th {\n",
       "        vertical-align: top;\n",
       "    }\n",
       "\n",
       "    .dataframe thead th {\n",
       "        text-align: right;\n",
       "    }\n",
       "</style>\n",
       "<table border=\"1\" class=\"dataframe\">\n",
       "  <thead>\n",
       "    <tr style=\"text-align: right;\">\n",
       "      <th></th>\n",
       "      <th>ds</th>\n",
       "    </tr>\n",
       "  </thead>\n",
       "  <tbody>\n",
       "    <tr>\n",
       "      <th>0</th>\n",
       "      <td>2020-01-22</td>\n",
       "    </tr>\n",
       "    <tr>\n",
       "      <th>1</th>\n",
       "      <td>2020-01-23</td>\n",
       "    </tr>\n",
       "    <tr>\n",
       "      <th>2</th>\n",
       "      <td>2020-01-24</td>\n",
       "    </tr>\n",
       "    <tr>\n",
       "      <th>3</th>\n",
       "      <td>2020-01-25</td>\n",
       "    </tr>\n",
       "    <tr>\n",
       "      <th>4</th>\n",
       "      <td>2020-01-26</td>\n",
       "    </tr>\n",
       "  </tbody>\n",
       "</table>\n",
       "</div>"
      ],
      "text/plain": [
       "          ds\n",
       "0 2020-01-22\n",
       "1 2020-01-23\n",
       "2 2020-01-24\n",
       "3 2020-01-25\n",
       "4 2020-01-26"
      ]
     },
     "execution_count": 64,
     "metadata": {},
     "output_type": "execute_result"
    }
   ],
   "source": [
    "future_dataframe.head()"
   ]
  },
  {
   "cell_type": "code",
   "execution_count": 65,
   "metadata": {},
   "outputs": [
    {
     "data": {
      "text/plain": [
       "(364, 4)"
      ]
     },
     "execution_count": 65,
     "metadata": {},
     "output_type": "execute_result"
    }
   ],
   "source": [
    "prophet_df.shape"
   ]
  },
  {
   "cell_type": "code",
   "execution_count": 66,
   "metadata": {
    "scrolled": true
   },
   "outputs": [
    {
     "data": {
      "text/plain": [
       "(454, 1)"
      ]
     },
     "execution_count": 66,
     "metadata": {},
     "output_type": "execute_result"
    }
   ],
   "source": [
    "future_dataframe.shape"
   ]
  },
  {
   "cell_type": "markdown",
   "metadata": {},
   "source": [
    "As seen above, 90 rows are added to the future_dataframe"
   ]
  },
  {
   "cell_type": "code",
   "execution_count": 67,
   "metadata": {
    "scrolled": false
   },
   "outputs": [
    {
     "data": {
      "text/html": [
       "<div>\n",
       "<style scoped>\n",
       "    .dataframe tbody tr th:only-of-type {\n",
       "        vertical-align: middle;\n",
       "    }\n",
       "\n",
       "    .dataframe tbody tr th {\n",
       "        vertical-align: top;\n",
       "    }\n",
       "\n",
       "    .dataframe thead th {\n",
       "        text-align: right;\n",
       "    }\n",
       "</style>\n",
       "<table border=\"1\" class=\"dataframe\">\n",
       "  <thead>\n",
       "    <tr style=\"text-align: right;\">\n",
       "      <th></th>\n",
       "      <th>ds</th>\n",
       "      <th>y</th>\n",
       "      <th>Deaths</th>\n",
       "      <th>Recovered</th>\n",
       "    </tr>\n",
       "  </thead>\n",
       "  <tbody>\n",
       "    <tr>\n",
       "      <th>0</th>\n",
       "      <td>2020-01-22</td>\n",
       "      <td>550.0</td>\n",
       "      <td>17.0</td>\n",
       "      <td>28.0</td>\n",
       "    </tr>\n",
       "    <tr>\n",
       "      <th>1</th>\n",
       "      <td>2020-01-23</td>\n",
       "      <td>1088.0</td>\n",
       "      <td>34.0</td>\n",
       "      <td>58.0</td>\n",
       "    </tr>\n",
       "    <tr>\n",
       "      <th>2</th>\n",
       "      <td>2020-01-24</td>\n",
       "      <td>925.0</td>\n",
       "      <td>26.0</td>\n",
       "      <td>36.0</td>\n",
       "    </tr>\n",
       "    <tr>\n",
       "      <th>3</th>\n",
       "      <td>2020-01-25</td>\n",
       "      <td>1411.0</td>\n",
       "      <td>42.0</td>\n",
       "      <td>39.0</td>\n",
       "    </tr>\n",
       "    <tr>\n",
       "      <th>4</th>\n",
       "      <td>2020-01-26</td>\n",
       "      <td>2085.0</td>\n",
       "      <td>56.0</td>\n",
       "      <td>49.0</td>\n",
       "    </tr>\n",
       "  </tbody>\n",
       "</table>\n",
       "</div>"
      ],
      "text/plain": [
       "          ds       y  Deaths  Recovered\n",
       "0 2020-01-22   550.0    17.0       28.0\n",
       "1 2020-01-23  1088.0    34.0       58.0\n",
       "2 2020-01-24   925.0    26.0       36.0\n",
       "3 2020-01-25  1411.0    42.0       39.0\n",
       "4 2020-01-26  2085.0    56.0       49.0"
      ]
     },
     "execution_count": 67,
     "metadata": {},
     "output_type": "execute_result"
    }
   ],
   "source": [
    "prophet_df.head()"
   ]
  },
  {
   "cell_type": "code",
   "execution_count": 68,
   "metadata": {
    "scrolled": true
   },
   "outputs": [
    {
     "data": {
      "text/html": [
       "<div>\n",
       "<style scoped>\n",
       "    .dataframe tbody tr th:only-of-type {\n",
       "        vertical-align: middle;\n",
       "    }\n",
       "\n",
       "    .dataframe tbody tr th {\n",
       "        vertical-align: top;\n",
       "    }\n",
       "\n",
       "    .dataframe thead th {\n",
       "        text-align: right;\n",
       "    }\n",
       "</style>\n",
       "<table border=\"1\" class=\"dataframe\">\n",
       "  <thead>\n",
       "    <tr style=\"text-align: right;\">\n",
       "      <th></th>\n",
       "      <th>ds</th>\n",
       "      <th>y</th>\n",
       "      <th>Deaths</th>\n",
       "      <th>Recovered</th>\n",
       "    </tr>\n",
       "  </thead>\n",
       "  <tbody>\n",
       "    <tr>\n",
       "      <th>359</th>\n",
       "      <td>2021-01-15</td>\n",
       "      <td>66150850.0</td>\n",
       "      <td>1431297.0</td>\n",
       "      <td>30882188.0</td>\n",
       "    </tr>\n",
       "    <tr>\n",
       "      <th>360</th>\n",
       "      <td>2021-01-16</td>\n",
       "      <td>66604250.0</td>\n",
       "      <td>1441209.0</td>\n",
       "      <td>31061477.0</td>\n",
       "    </tr>\n",
       "    <tr>\n",
       "      <th>361</th>\n",
       "      <td>2021-01-17</td>\n",
       "      <td>66980328.0</td>\n",
       "      <td>1447051.0</td>\n",
       "      <td>31223148.0</td>\n",
       "    </tr>\n",
       "    <tr>\n",
       "      <th>362</th>\n",
       "      <td>2021-01-18</td>\n",
       "      <td>67367756.0</td>\n",
       "      <td>1452678.0</td>\n",
       "      <td>31397345.0</td>\n",
       "    </tr>\n",
       "    <tr>\n",
       "      <th>363</th>\n",
       "      <td>2021-01-19</td>\n",
       "      <td>67794628.0</td>\n",
       "      <td>1464688.0</td>\n",
       "      <td>31625336.0</td>\n",
       "    </tr>\n",
       "  </tbody>\n",
       "</table>\n",
       "</div>"
      ],
      "text/plain": [
       "            ds           y     Deaths   Recovered\n",
       "359 2021-01-15  66150850.0  1431297.0  30882188.0\n",
       "360 2021-01-16  66604250.0  1441209.0  31061477.0\n",
       "361 2021-01-17  66980328.0  1447051.0  31223148.0\n",
       "362 2021-01-18  67367756.0  1452678.0  31397345.0\n",
       "363 2021-01-19  67794628.0  1464688.0  31625336.0"
      ]
     },
     "execution_count": 68,
     "metadata": {},
     "output_type": "execute_result"
    }
   ],
   "source": [
    "prophet_df.tail()"
   ]
  },
  {
   "cell_type": "markdown",
   "metadata": {},
   "source": [
    "The prophet_df ,which contains our initial dataset, ends on the 19th of January 2021."
   ]
  },
  {
   "cell_type": "code",
   "execution_count": 69,
   "metadata": {
    "scrolled": true
   },
   "outputs": [
    {
     "data": {
      "text/plain": [
       "359   2021-01-15\n",
       "360   2021-01-16\n",
       "361   2021-01-17\n",
       "362   2021-01-18\n",
       "363   2021-01-19\n",
       "Name: ds, dtype: datetime64[ns]"
      ]
     },
     "execution_count": 69,
     "metadata": {},
     "output_type": "execute_result"
    }
   ],
   "source": [
    "prophet_df['ds'].tail()"
   ]
  },
  {
   "cell_type": "markdown",
   "metadata": {},
   "source": [
    "The future_dataframe, which was added 90 days for forecasting, ends on the 19th of April 2021."
   ]
  },
  {
   "cell_type": "code",
   "execution_count": 70,
   "metadata": {
    "scrolled": true
   },
   "outputs": [
    {
     "data": {
      "text/html": [
       "<div>\n",
       "<style scoped>\n",
       "    .dataframe tbody tr th:only-of-type {\n",
       "        vertical-align: middle;\n",
       "    }\n",
       "\n",
       "    .dataframe tbody tr th {\n",
       "        vertical-align: top;\n",
       "    }\n",
       "\n",
       "    .dataframe thead th {\n",
       "        text-align: right;\n",
       "    }\n",
       "</style>\n",
       "<table border=\"1\" class=\"dataframe\">\n",
       "  <thead>\n",
       "    <tr style=\"text-align: right;\">\n",
       "      <th></th>\n",
       "      <th>ds</th>\n",
       "    </tr>\n",
       "  </thead>\n",
       "  <tbody>\n",
       "    <tr>\n",
       "      <th>449</th>\n",
       "      <td>2021-04-15</td>\n",
       "    </tr>\n",
       "    <tr>\n",
       "      <th>450</th>\n",
       "      <td>2021-04-16</td>\n",
       "    </tr>\n",
       "    <tr>\n",
       "      <th>451</th>\n",
       "      <td>2021-04-17</td>\n",
       "    </tr>\n",
       "    <tr>\n",
       "      <th>452</th>\n",
       "      <td>2021-04-18</td>\n",
       "    </tr>\n",
       "    <tr>\n",
       "      <th>453</th>\n",
       "      <td>2021-04-19</td>\n",
       "    </tr>\n",
       "  </tbody>\n",
       "</table>\n",
       "</div>"
      ],
      "text/plain": [
       "            ds\n",
       "449 2021-04-15\n",
       "450 2021-04-16\n",
       "451 2021-04-17\n",
       "452 2021-04-18\n",
       "453 2021-04-19"
      ]
     },
     "execution_count": 70,
     "metadata": {},
     "output_type": "execute_result"
    }
   ],
   "source": [
    "future_dataframe.tail()"
   ]
  },
  {
   "cell_type": "markdown",
   "metadata": {},
   "source": [
    "Now, we will visualize the confirmed cases, deaths and recoveries."
   ]
  },
  {
   "cell_type": "code",
   "execution_count": 71,
   "metadata": {},
   "outputs": [
    {
     "data": {
      "text/plain": [
       "Text(0, 0.5, 'Number of recoveries')"
      ]
     },
     "execution_count": 71,
     "metadata": {},
     "output_type": "execute_result"
    },
    {
     "data": {
      "image/png": "[encoded data removed]",
      "text/plain": [
       "<Figure size 1440x432 with 3 Axes>"
      ]
     },
     "metadata": {
      "needs_background": "light"
     },
     "output_type": "display_data"
    }
   ],
   "source": [
    "fig, (ax1, ax2, ax3) = plt.subplots(1,3, figsize=(20,6))\n",
    "\n",
    "ax1.plot(prophet_df['ds'], prophet_df['y'], color='blue')\n",
    "ax1.set_xlabel('Date')\n",
    "ax1.set_ylabel('Number of confirmed cases')\n",
    "\n",
    "ax2.plot(prophet_df['ds'], prophet_df['Deaths'], color='red')\n",
    "ax2.set_xlabel('Date')\n",
    "ax2.set_ylabel('Number of deaths')\n",
    "\n",
    "ax3.plot(prophet_df['ds'], prophet_df['Recovered'], color='green')\n",
    "ax3.set_xlabel('Date')\n",
    "ax3.set_ylabel('Number of recoveries')"
   ]
  },
  {
   "cell_type": "markdown",
   "metadata": {},
   "source": [
    "Make predictions for next 90 days."
   ]
  },
  {
   "cell_type": "code",
   "execution_count": 72,
   "metadata": {},
   "outputs": [],
   "source": [
    "prediction = model.predict(future_dataframe)"
   ]
  },
  {
   "cell_type": "code",
   "execution_count": 73,
   "metadata": {},
   "outputs": [
    {
     "data": {
      "text/html": [
       "<div>\n",
       "<style scoped>\n",
       "    .dataframe tbody tr th:only-of-type {\n",
       "        vertical-align: middle;\n",
       "    }\n",
       "\n",
       "    .dataframe tbody tr th {\n",
       "        vertical-align: top;\n",
       "    }\n",
       "\n",
       "    .dataframe thead th {\n",
       "        text-align: right;\n",
       "    }\n",
       "</style>\n",
       "<table border=\"1\" class=\"dataframe\">\n",
       "  <thead>\n",
       "    <tr style=\"text-align: right;\">\n",
       "      <th></th>\n",
       "      <th>ds</th>\n",
       "      <th>trend</th>\n",
       "      <th>yhat_lower</th>\n",
       "      <th>yhat_upper</th>\n",
       "      <th>trend_lower</th>\n",
       "      <th>trend_upper</th>\n",
       "      <th>additive_terms</th>\n",
       "      <th>additive_terms_lower</th>\n",
       "      <th>additive_terms_upper</th>\n",
       "      <th>weekly</th>\n",
       "      <th>weekly_lower</th>\n",
       "      <th>weekly_upper</th>\n",
       "      <th>multiplicative_terms</th>\n",
       "      <th>multiplicative_terms_lower</th>\n",
       "      <th>multiplicative_terms_upper</th>\n",
       "      <th>yhat</th>\n",
       "    </tr>\n",
       "  </thead>\n",
       "  <tbody>\n",
       "    <tr>\n",
       "      <th>0</th>\n",
       "      <td>2020-01-22</td>\n",
       "      <td>2.812712e+03</td>\n",
       "      <td>-2.451563e+05</td>\n",
       "      <td>1.945101e+05</td>\n",
       "      <td>2.812712e+03</td>\n",
       "      <td>2.812712e+03</td>\n",
       "      <td>-19956.026050</td>\n",
       "      <td>-19956.026050</td>\n",
       "      <td>-19956.026050</td>\n",
       "      <td>-19956.026050</td>\n",
       "      <td>-19956.026050</td>\n",
       "      <td>-19956.026050</td>\n",
       "      <td>0.0</td>\n",
       "      <td>0.0</td>\n",
       "      <td>0.0</td>\n",
       "      <td>-1.714331e+04</td>\n",
       "    </tr>\n",
       "    <tr>\n",
       "      <th>1</th>\n",
       "      <td>2020-01-23</td>\n",
       "      <td>4.649774e+03</td>\n",
       "      <td>-1.932092e+05</td>\n",
       "      <td>2.295332e+05</td>\n",
       "      <td>4.649774e+03</td>\n",
       "      <td>4.649774e+03</td>\n",
       "      <td>22593.034031</td>\n",
       "      <td>22593.034031</td>\n",
       "      <td>22593.034031</td>\n",
       "      <td>22593.034031</td>\n",
       "      <td>22593.034031</td>\n",
       "      <td>22593.034031</td>\n",
       "      <td>0.0</td>\n",
       "      <td>0.0</td>\n",
       "      <td>0.0</td>\n",
       "      <td>2.724281e+04</td>\n",
       "    </tr>\n",
       "    <tr>\n",
       "      <th>2</th>\n",
       "      <td>2020-01-24</td>\n",
       "      <td>6.486836e+03</td>\n",
       "      <td>-1.768745e+05</td>\n",
       "      <td>2.369475e+05</td>\n",
       "      <td>6.486836e+03</td>\n",
       "      <td>6.486836e+03</td>\n",
       "      <td>34375.234865</td>\n",
       "      <td>34375.234865</td>\n",
       "      <td>34375.234865</td>\n",
       "      <td>34375.234865</td>\n",
       "      <td>34375.234865</td>\n",
       "      <td>34375.234865</td>\n",
       "      <td>0.0</td>\n",
       "      <td>0.0</td>\n",
       "      <td>0.0</td>\n",
       "      <td>4.086207e+04</td>\n",
       "    </tr>\n",
       "    <tr>\n",
       "      <th>3</th>\n",
       "      <td>2020-01-25</td>\n",
       "      <td>8.323898e+03</td>\n",
       "      <td>-1.677891e+05</td>\n",
       "      <td>2.621262e+05</td>\n",
       "      <td>8.323898e+03</td>\n",
       "      <td>8.323898e+03</td>\n",
       "      <td>29002.678416</td>\n",
       "      <td>29002.678416</td>\n",
       "      <td>29002.678416</td>\n",
       "      <td>29002.678416</td>\n",
       "      <td>29002.678416</td>\n",
       "      <td>29002.678416</td>\n",
       "      <td>0.0</td>\n",
       "      <td>0.0</td>\n",
       "      <td>0.0</td>\n",
       "      <td>3.732658e+04</td>\n",
       "    </tr>\n",
       "    <tr>\n",
       "      <th>4</th>\n",
       "      <td>2020-01-26</td>\n",
       "      <td>1.016096e+04</td>\n",
       "      <td>-2.146185e+05</td>\n",
       "      <td>2.149450e+05</td>\n",
       "      <td>1.016096e+04</td>\n",
       "      <td>1.016096e+04</td>\n",
       "      <td>-7063.626725</td>\n",
       "      <td>-7063.626725</td>\n",
       "      <td>-7063.626725</td>\n",
       "      <td>-7063.626725</td>\n",
       "      <td>-7063.626725</td>\n",
       "      <td>-7063.626725</td>\n",
       "      <td>0.0</td>\n",
       "      <td>0.0</td>\n",
       "      <td>0.0</td>\n",
       "      <td>3.097334e+03</td>\n",
       "    </tr>\n",
       "    <tr>\n",
       "      <th>...</th>\n",
       "      <td>...</td>\n",
       "      <td>...</td>\n",
       "      <td>...</td>\n",
       "      <td>...</td>\n",
       "      <td>...</td>\n",
       "      <td>...</td>\n",
       "      <td>...</td>\n",
       "      <td>...</td>\n",
       "      <td>...</td>\n",
       "      <td>...</td>\n",
       "      <td>...</td>\n",
       "      <td>...</td>\n",
       "      <td>...</td>\n",
       "      <td>...</td>\n",
       "      <td>...</td>\n",
       "      <td>...</td>\n",
       "    </tr>\n",
       "    <tr>\n",
       "      <th>449</th>\n",
       "      <td>2021-04-15</td>\n",
       "      <td>1.050568e+08</td>\n",
       "      <td>1.014132e+08</td>\n",
       "      <td>1.084743e+08</td>\n",
       "      <td>1.014121e+08</td>\n",
       "      <td>1.083972e+08</td>\n",
       "      <td>22593.034031</td>\n",
       "      <td>22593.034031</td>\n",
       "      <td>22593.034031</td>\n",
       "      <td>22593.034031</td>\n",
       "      <td>22593.034031</td>\n",
       "      <td>22593.034031</td>\n",
       "      <td>0.0</td>\n",
       "      <td>0.0</td>\n",
       "      <td>0.0</td>\n",
       "      <td>1.050794e+08</td>\n",
       "    </tr>\n",
       "    <tr>\n",
       "      <th>450</th>\n",
       "      <td>2021-04-16</td>\n",
       "      <td>1.054973e+08</td>\n",
       "      <td>1.019201e+08</td>\n",
       "      <td>1.089268e+08</td>\n",
       "      <td>1.017865e+08</td>\n",
       "      <td>1.088930e+08</td>\n",
       "      <td>34375.234865</td>\n",
       "      <td>34375.234865</td>\n",
       "      <td>34375.234865</td>\n",
       "      <td>34375.234865</td>\n",
       "      <td>34375.234865</td>\n",
       "      <td>34375.234865</td>\n",
       "      <td>0.0</td>\n",
       "      <td>0.0</td>\n",
       "      <td>0.0</td>\n",
       "      <td>1.055317e+08</td>\n",
       "    </tr>\n",
       "    <tr>\n",
       "      <th>451</th>\n",
       "      <td>2021-04-17</td>\n",
       "      <td>1.059378e+08</td>\n",
       "      <td>1.022096e+08</td>\n",
       "      <td>1.094408e+08</td>\n",
       "      <td>1.021602e+08</td>\n",
       "      <td>1.093941e+08</td>\n",
       "      <td>29002.678416</td>\n",
       "      <td>29002.678416</td>\n",
       "      <td>29002.678416</td>\n",
       "      <td>29002.678416</td>\n",
       "      <td>29002.678416</td>\n",
       "      <td>29002.678416</td>\n",
       "      <td>0.0</td>\n",
       "      <td>0.0</td>\n",
       "      <td>0.0</td>\n",
       "      <td>1.059668e+08</td>\n",
       "    </tr>\n",
       "    <tr>\n",
       "      <th>452</th>\n",
       "      <td>2021-04-18</td>\n",
       "      <td>1.063783e+08</td>\n",
       "      <td>1.025547e+08</td>\n",
       "      <td>1.099091e+08</td>\n",
       "      <td>1.025191e+08</td>\n",
       "      <td>1.099091e+08</td>\n",
       "      <td>-7063.626725</td>\n",
       "      <td>-7063.626725</td>\n",
       "      <td>-7063.626725</td>\n",
       "      <td>-7063.626725</td>\n",
       "      <td>-7063.626725</td>\n",
       "      <td>-7063.626725</td>\n",
       "      <td>0.0</td>\n",
       "      <td>0.0</td>\n",
       "      <td>0.0</td>\n",
       "      <td>1.063712e+08</td>\n",
       "    </tr>\n",
       "    <tr>\n",
       "      <th>453</th>\n",
       "      <td>2021-04-19</td>\n",
       "      <td>1.068188e+08</td>\n",
       "      <td>1.028548e+08</td>\n",
       "      <td>1.104172e+08</td>\n",
       "      <td>1.029074e+08</td>\n",
       "      <td>1.104418e+08</td>\n",
       "      <td>-27522.915369</td>\n",
       "      <td>-27522.915369</td>\n",
       "      <td>-27522.915369</td>\n",
       "      <td>-27522.915369</td>\n",
       "      <td>-27522.915369</td>\n",
       "      <td>-27522.915369</td>\n",
       "      <td>0.0</td>\n",
       "      <td>0.0</td>\n",
       "      <td>0.0</td>\n",
       "      <td>1.067912e+08</td>\n",
       "    </tr>\n",
       "  </tbody>\n",
       "</table>\n",
       "<p>454 rows × 16 columns</p>\n",
       "</div>"
      ],
      "text/plain": [
       "            ds         trend    yhat_lower    yhat_upper   trend_lower  \\\n",
       "0   2020-01-22  2.812712e+03 -2.451563e+05  1.945101e+05  2.812712e+03   \n",
       "1   2020-01-23  4.649774e+03 -1.932092e+05  2.295332e+05  4.649774e+03   \n",
       "2   2020-01-24  6.486836e+03 -1.768745e+05  2.369475e+05  6.486836e+03   \n",
       "3   2020-01-25  8.323898e+03 -1.677891e+05  2.621262e+05  8.323898e+03   \n",
       "4   2020-01-26  1.016096e+04 -2.146185e+05  2.149450e+05  1.016096e+04   \n",
       "..         ...           ...           ...           ...           ...   \n",
       "449 2021-04-15  1.050568e+08  1.014132e+08  1.084743e+08  1.014121e+08   \n",
       "450 2021-04-16  1.054973e+08  1.019201e+08  1.089268e+08  1.017865e+08   \n",
       "451 2021-04-17  1.059378e+08  1.022096e+08  1.094408e+08  1.021602e+08   \n",
       "452 2021-04-18  1.063783e+08  1.025547e+08  1.099091e+08  1.025191e+08   \n",
       "453 2021-04-19  1.068188e+08  1.028548e+08  1.104172e+08  1.029074e+08   \n",
       "\n",
       "      trend_upper  additive_terms  additive_terms_lower  additive_terms_upper  \\\n",
       "0    2.812712e+03   -19956.026050         -19956.026050         -19956.026050   \n",
       "1    4.649774e+03    22593.034031          22593.034031          22593.034031   \n",
       "2    6.486836e+03    34375.234865          34375.234865          34375.234865   \n",
       "3    8.323898e+03    29002.678416          29002.678416          29002.678416   \n",
       "4    1.016096e+04    -7063.626725          -7063.626725          -7063.626725   \n",
       "..            ...             ...                   ...                   ...   \n",
       "449  1.083972e+08    22593.034031          22593.034031          22593.034031   \n",
       "450  1.088930e+08    34375.234865          34375.234865          34375.234865   \n",
       "451  1.093941e+08    29002.678416          29002.678416          29002.678416   \n",
       "452  1.099091e+08    -7063.626725          -7063.626725          -7063.626725   \n",
       "453  1.104418e+08   -27522.915369         -27522.915369         -27522.915369   \n",
       "\n",
       "           weekly  weekly_lower  weekly_upper  multiplicative_terms  \\\n",
       "0   -19956.026050 -19956.026050 -19956.026050                   0.0   \n",
       "1    22593.034031  22593.034031  22593.034031                   0.0   \n",
       "2    34375.234865  34375.234865  34375.234865                   0.0   \n",
       "3    29002.678416  29002.678416  29002.678416                   0.0   \n",
       "4    -7063.626725  -7063.626725  -7063.626725                   0.0   \n",
       "..            ...           ...           ...                   ...   \n",
       "449  22593.034031  22593.034031  22593.034031                   0.0   \n",
       "450  34375.234865  34375.234865  34375.234865                   0.0   \n",
       "451  29002.678416  29002.678416  29002.678416                   0.0   \n",
       "452  -7063.626725  -7063.626725  -7063.626725                   0.0   \n",
       "453 -27522.915369 -27522.915369 -27522.915369                   0.0   \n",
       "\n",
       "     multiplicative_terms_lower  multiplicative_terms_upper          yhat  \n",
       "0                           0.0                         0.0 -1.714331e+04  \n",
       "1                           0.0                         0.0  2.724281e+04  \n",
       "2                           0.0                         0.0  4.086207e+04  \n",
       "3                           0.0                         0.0  3.732658e+04  \n",
       "4                           0.0                         0.0  3.097334e+03  \n",
       "..                          ...                         ...           ...  \n",
       "449                         0.0                         0.0  1.050794e+08  \n",
       "450                         0.0                         0.0  1.055317e+08  \n",
       "451                         0.0                         0.0  1.059668e+08  \n",
       "452                         0.0                         0.0  1.063712e+08  \n",
       "453                         0.0                         0.0  1.067912e+08  \n",
       "\n",
       "[454 rows x 16 columns]"
      ]
     },
     "execution_count": 73,
     "metadata": {},
     "output_type": "execute_result"
    }
   ],
   "source": [
    "prediction"
   ]
  },
  {
   "cell_type": "markdown",
   "metadata": {},
   "source": [
    "We will only use ds (date column), yhat (forecast), yhat_lower and yhat_upper (for uncertainty interval)."
   ]
  },
  {
   "cell_type": "code",
   "execution_count": 74,
   "metadata": {
    "scrolled": true
   },
   "outputs": [
    {
     "data": {
      "text/html": [
       "<div>\n",
       "<style scoped>\n",
       "    .dataframe tbody tr th:only-of-type {\n",
       "        vertical-align: middle;\n",
       "    }\n",
       "\n",
       "    .dataframe tbody tr th {\n",
       "        vertical-align: top;\n",
       "    }\n",
       "\n",
       "    .dataframe thead th {\n",
       "        text-align: right;\n",
       "    }\n",
       "</style>\n",
       "<table border=\"1\" class=\"dataframe\">\n",
       "  <thead>\n",
       "    <tr style=\"text-align: right;\">\n",
       "      <th></th>\n",
       "      <th>ds</th>\n",
       "      <th>yhat</th>\n",
       "      <th>yhat_lower</th>\n",
       "      <th>yhat_upper</th>\n",
       "    </tr>\n",
       "  </thead>\n",
       "  <tbody>\n",
       "    <tr>\n",
       "      <th>449</th>\n",
       "      <td>2021-04-15</td>\n",
       "      <td>1.050794e+08</td>\n",
       "      <td>1.014132e+08</td>\n",
       "      <td>1.084743e+08</td>\n",
       "    </tr>\n",
       "    <tr>\n",
       "      <th>450</th>\n",
       "      <td>2021-04-16</td>\n",
       "      <td>1.055317e+08</td>\n",
       "      <td>1.019201e+08</td>\n",
       "      <td>1.089268e+08</td>\n",
       "    </tr>\n",
       "    <tr>\n",
       "      <th>451</th>\n",
       "      <td>2021-04-17</td>\n",
       "      <td>1.059668e+08</td>\n",
       "      <td>1.022096e+08</td>\n",
       "      <td>1.094408e+08</td>\n",
       "    </tr>\n",
       "    <tr>\n",
       "      <th>452</th>\n",
       "      <td>2021-04-18</td>\n",
       "      <td>1.063712e+08</td>\n",
       "      <td>1.025547e+08</td>\n",
       "      <td>1.099091e+08</td>\n",
       "    </tr>\n",
       "    <tr>\n",
       "      <th>453</th>\n",
       "      <td>2021-04-19</td>\n",
       "      <td>1.067912e+08</td>\n",
       "      <td>1.028548e+08</td>\n",
       "      <td>1.104172e+08</td>\n",
       "    </tr>\n",
       "  </tbody>\n",
       "</table>\n",
       "</div>"
      ],
      "text/plain": [
       "            ds          yhat    yhat_lower    yhat_upper\n",
       "449 2021-04-15  1.050794e+08  1.014132e+08  1.084743e+08\n",
       "450 2021-04-16  1.055317e+08  1.019201e+08  1.089268e+08\n",
       "451 2021-04-17  1.059668e+08  1.022096e+08  1.094408e+08\n",
       "452 2021-04-18  1.063712e+08  1.025547e+08  1.099091e+08\n",
       "453 2021-04-19  1.067912e+08  1.028548e+08  1.104172e+08"
      ]
     },
     "execution_count": 74,
     "metadata": {},
     "output_type": "execute_result"
    }
   ],
   "source": [
    "prediction[['ds', 'yhat', 'yhat_lower', 'yhat_upper']].tail()"
   ]
  },
  {
   "cell_type": "markdown",
   "metadata": {},
   "source": [
    "We can plot prediction. The dark-colored part is our dataset and the blue one is our prediction. And light blue part shows the interval between lower and upper limits."
   ]
  },
  {
   "cell_type": "code",
   "execution_count": 75,
   "metadata": {},
   "outputs": [
    {
     "data": {
      "image/png": "[encoded data removed]",
      "text/plain": [
       "<Figure size 720x432 with 1 Axes>"
      ]
     },
     "metadata": {},
     "output_type": "display_data"
    }
   ],
   "source": [
    "predict_plot = model.plot(prediction)"
   ]
  },
  {
   "cell_type": "markdown",
   "metadata": {},
   "source": [
    "Use 'plot_components' to plot the components of a prophet forecast."
   ]
  },
  {
   "cell_type": "code",
   "execution_count": 76,
   "metadata": {
    "scrolled": false
   },
   "outputs": [
    {
     "data": {
      "image/png": "[encoded data removed]",
      "text/plain": [
       "<Figure size 648x432 with 2 Axes>"
      ]
     },
     "execution_count": 76,
     "metadata": {},
     "output_type": "execute_result"
    },
    {
     "data": {
      "image/png": "[encoded data removed]",
      "text/plain": [
       "<Figure size 648x432 with 2 Axes>"
      ]
     },
     "metadata": {},
     "output_type": "display_data"
    }
   ],
   "source": [
    "model.plot_components(prediction)"
   ]
  },
  {
   "cell_type": "markdown",
   "metadata": {},
   "source": [
    "We can also visualize changepoints in time."
   ]
  },
  {
   "cell_type": "code",
   "execution_count": 77,
   "metadata": {
    "scrolled": false
   },
   "outputs": [
    {
     "data": {
      "text/plain": [
       "[[<matplotlib.lines.Line2D at 0x7fd7d741a1c0>],\n",
       " <matplotlib.lines.Line2D at 0x7fd7d800c940>,\n",
       " <matplotlib.lines.Line2D at 0x7fd7d8014bb0>,\n",
       " <matplotlib.lines.Line2D at 0x7fd7d80145b0>,\n",
       " <matplotlib.lines.Line2D at 0x7fd7d8014be0>,\n",
       " <matplotlib.lines.Line2D at 0x7fd7d801fa30>,\n",
       " <matplotlib.lines.Line2D at 0x7fd7d801f310>,\n",
       " <matplotlib.lines.Line2D at 0x7fd7d7ff1850>,\n",
       " <matplotlib.lines.Line2D at 0x7fd7d801feb0>,\n",
       " <matplotlib.lines.Line2D at 0x7fd7d8025910>,\n",
       " <matplotlib.lines.Line2D at 0x7fd7d8025130>,\n",
       " <matplotlib.lines.Line2D at 0x7fd7d8025c10>,\n",
       " <matplotlib.lines.Line2D at 0x7fd7d802f670>,\n",
       " <matplotlib.lines.Line2D at 0x7fd7d802ff10>,\n",
       " <matplotlib.lines.Line2D at 0x7fd7d802f9a0>]"
      ]
     },
     "execution_count": 77,
     "metadata": {},
     "output_type": "execute_result"
    },
    {
     "data": {
      "image/png": "[encoded data removed]",
      "text/plain": [
       "<Figure size 720x432 with 1 Axes>"
      ]
     },
     "metadata": {},
     "output_type": "display_data"
    }
   ],
   "source": [
    "figure = model.plot(prediction)\n",
    "add_changepoints_to_plot(figure.gca(), model, prediction)"
   ]
  },
  {
   "cell_type": "markdown",
   "metadata": {},
   "source": [
    "Prophet includes functionality for time series cross-validation to measure forecast error using historical data. This is done by selecting cutoff points in the history, and for each of them fitting the model using data only up to that cutoff point.\n",
    "\n",
    "Cross-validation procedure can be done automatically for a range of historical cutoffs using the cross_validation function. The function takes model, horizon (forecast horizon), initial (size of the initial training period), and period (the spacing between cutoff dates). By default, the initial is set to three times the horizon, and the period is half of the horizon."
   ]
  },
  {
   "cell_type": "code",
   "execution_count": 78,
   "metadata": {
    "scrolled": true
   },
   "outputs": [
    {
     "name": "stderr",
     "output_type": "stream",
     "text": [
      "INFO:fbprophet:Making 1 forecasts with cutoffs between 2020-10-21 00:00:00 and 2020-10-21 00:00:00\n"
     ]
    },
    {
     "data": {
      "application/vnd.jupyter.widget-view+json": {
       "model_id": "7874717397234a0f9755391753e23bd9",
       "version_major": 2,
       "version_minor": 0
      },
      "text/plain": [
       "  0%|          | 0/1 [00:00<?, ?it/s]"
      ]
     },
     "metadata": {},
     "output_type": "display_data"
    }
   ],
   "source": [
    "cross_validate_df = cross_validation(model, initial='270 days', period='45 days', horizon='90 days')"
   ]
  },
  {
   "cell_type": "code",
   "execution_count": 79,
   "metadata": {
    "scrolled": true
   },
   "outputs": [
    {
     "data": {
      "text/html": [
       "<div>\n",
       "<style scoped>\n",
       "    .dataframe tbody tr th:only-of-type {\n",
       "        vertical-align: middle;\n",
       "    }\n",
       "\n",
       "    .dataframe tbody tr th {\n",
       "        vertical-align: top;\n",
       "    }\n",
       "\n",
       "    .dataframe thead th {\n",
       "        text-align: right;\n",
       "    }\n",
       "</style>\n",
       "<table border=\"1\" class=\"dataframe\">\n",
       "  <thead>\n",
       "    <tr style=\"text-align: right;\">\n",
       "      <th></th>\n",
       "      <th>ds</th>\n",
       "      <th>yhat</th>\n",
       "      <th>yhat_lower</th>\n",
       "      <th>yhat_upper</th>\n",
       "      <th>y</th>\n",
       "      <th>cutoff</th>\n",
       "    </tr>\n",
       "  </thead>\n",
       "  <tbody>\n",
       "    <tr>\n",
       "      <th>0</th>\n",
       "      <td>2020-10-22</td>\n",
       "      <td>3.013707e+07</td>\n",
       "      <td>3.004620e+07</td>\n",
       "      <td>3.023402e+07</td>\n",
       "      <td>30436213.0</td>\n",
       "      <td>2020-10-21</td>\n",
       "    </tr>\n",
       "    <tr>\n",
       "      <th>1</th>\n",
       "      <td>2020-10-23</td>\n",
       "      <td>3.035352e+07</td>\n",
       "      <td>3.025828e+07</td>\n",
       "      <td>3.044535e+07</td>\n",
       "      <td>30742657.0</td>\n",
       "      <td>2020-10-21</td>\n",
       "    </tr>\n",
       "    <tr>\n",
       "      <th>2</th>\n",
       "      <td>2020-10-24</td>\n",
       "      <td>3.055749e+07</td>\n",
       "      <td>3.046421e+07</td>\n",
       "      <td>3.065902e+07</td>\n",
       "      <td>31009220.0</td>\n",
       "      <td>2020-10-21</td>\n",
       "    </tr>\n",
       "    <tr>\n",
       "      <th>3</th>\n",
       "      <td>2020-10-25</td>\n",
       "      <td>3.074811e+07</td>\n",
       "      <td>3.065526e+07</td>\n",
       "      <td>3.084133e+07</td>\n",
       "      <td>31231363.0</td>\n",
       "      <td>2020-10-21</td>\n",
       "    </tr>\n",
       "    <tr>\n",
       "      <th>4</th>\n",
       "      <td>2020-10-26</td>\n",
       "      <td>3.095233e+07</td>\n",
       "      <td>3.086143e+07</td>\n",
       "      <td>3.105104e+07</td>\n",
       "      <td>31507849.0</td>\n",
       "      <td>2020-10-21</td>\n",
       "    </tr>\n",
       "  </tbody>\n",
       "</table>\n",
       "</div>"
      ],
      "text/plain": [
       "          ds          yhat    yhat_lower    yhat_upper           y     cutoff\n",
       "0 2020-10-22  3.013707e+07  3.004620e+07  3.023402e+07  30436213.0 2020-10-21\n",
       "1 2020-10-23  3.035352e+07  3.025828e+07  3.044535e+07  30742657.0 2020-10-21\n",
       "2 2020-10-24  3.055749e+07  3.046421e+07  3.065902e+07  31009220.0 2020-10-21\n",
       "3 2020-10-25  3.074811e+07  3.065526e+07  3.084133e+07  31231363.0 2020-10-21\n",
       "4 2020-10-26  3.095233e+07  3.086143e+07  3.105104e+07  31507849.0 2020-10-21"
      ]
     },
     "execution_count": 79,
     "metadata": {},
     "output_type": "execute_result"
    }
   ],
   "source": [
    "cross_validate_df.head()"
   ]
  },
  {
   "cell_type": "code",
   "execution_count": 80,
   "metadata": {},
   "outputs": [
    {
     "data": {
      "text/plain": [
       "(90, 6)"
      ]
     },
     "execution_count": 80,
     "metadata": {},
     "output_type": "execute_result"
    }
   ],
   "source": [
    "cross_validate_df.shape"
   ]
  },
  {
   "cell_type": "markdown",
   "metadata": {},
   "source": [
    "Get the performance metric to compute statistics of the prediction performance (yhat, yhat_lower, and yhat_upper compared to y), as a function of the distance from the cutoff (how far into the future the prediction was). "
   ]
  },
  {
   "cell_type": "code",
   "execution_count": 81,
   "metadata": {},
   "outputs": [],
   "source": [
    "performance = performance_metrics(cross_validate_df)"
   ]
  },
  {
   "cell_type": "markdown",
   "metadata": {},
   "source": [
    "The statistics computed are mean squared error (MSE), root mean squared error (RMSE), mean absolute error (MAE), mean absolute percent error (MAPE), median absolute percent error (MDAPE) and coverage of the yhat_lower and yhat_upper estimates."
   ]
  },
  {
   "cell_type": "code",
   "execution_count": 82,
   "metadata": {
    "scrolled": true
   },
   "outputs": [
    {
     "data": {
      "text/html": [
       "<div>\n",
       "<style scoped>\n",
       "    .dataframe tbody tr th:only-of-type {\n",
       "        vertical-align: middle;\n",
       "    }\n",
       "\n",
       "    .dataframe tbody tr th {\n",
       "        vertical-align: top;\n",
       "    }\n",
       "\n",
       "    .dataframe thead th {\n",
       "        text-align: right;\n",
       "    }\n",
       "</style>\n",
       "<table border=\"1\" class=\"dataframe\">\n",
       "  <thead>\n",
       "    <tr style=\"text-align: right;\">\n",
       "      <th></th>\n",
       "      <th>horizon</th>\n",
       "      <th>mse</th>\n",
       "      <th>rmse</th>\n",
       "      <th>mae</th>\n",
       "      <th>mape</th>\n",
       "      <th>mdape</th>\n",
       "      <th>coverage</th>\n",
       "    </tr>\n",
       "  </thead>\n",
       "  <tbody>\n",
       "    <tr>\n",
       "      <th>0</th>\n",
       "      <td>9 days</td>\n",
       "      <td>3.732374e+11</td>\n",
       "      <td>610931.618580</td>\n",
       "      <td>581539.747221</td>\n",
       "      <td>0.018303</td>\n",
       "      <td>0.017631</td>\n",
       "      <td>0.0</td>\n",
       "    </tr>\n",
       "    <tr>\n",
       "      <th>1</th>\n",
       "      <td>10 days</td>\n",
       "      <td>4.741085e+11</td>\n",
       "      <td>688555.390305</td>\n",
       "      <td>659264.394539</td>\n",
       "      <td>0.020569</td>\n",
       "      <td>0.020172</td>\n",
       "      <td>0.0</td>\n",
       "    </tr>\n",
       "    <tr>\n",
       "      <th>2</th>\n",
       "      <td>11 days</td>\n",
       "      <td>5.913533e+11</td>\n",
       "      <td>768994.998441</td>\n",
       "      <td>738079.080275</td>\n",
       "      <td>0.022824</td>\n",
       "      <td>0.022274</td>\n",
       "      <td>0.0</td>\n",
       "    </tr>\n",
       "    <tr>\n",
       "      <th>3</th>\n",
       "      <td>12 days</td>\n",
       "      <td>7.276802e+11</td>\n",
       "      <td>853041.717683</td>\n",
       "      <td>820803.254538</td>\n",
       "      <td>0.025157</td>\n",
       "      <td>0.024418</td>\n",
       "      <td>0.0</td>\n",
       "    </tr>\n",
       "    <tr>\n",
       "      <th>4</th>\n",
       "      <td>13 days</td>\n",
       "      <td>8.948476e+11</td>\n",
       "      <td>945963.830073</td>\n",
       "      <td>913591.249767</td>\n",
       "      <td>0.027752</td>\n",
       "      <td>0.027701</td>\n",
       "      <td>0.0</td>\n",
       "    </tr>\n",
       "  </tbody>\n",
       "</table>\n",
       "</div>"
      ],
      "text/plain": [
       "  horizon           mse           rmse            mae      mape     mdape  \\\n",
       "0  9 days  3.732374e+11  610931.618580  581539.747221  0.018303  0.017631   \n",
       "1 10 days  4.741085e+11  688555.390305  659264.394539  0.020569  0.020172   \n",
       "2 11 days  5.913533e+11  768994.998441  738079.080275  0.022824  0.022274   \n",
       "3 12 days  7.276802e+11  853041.717683  820803.254538  0.025157  0.024418   \n",
       "4 13 days  8.948476e+11  945963.830073  913591.249767  0.027752  0.027701   \n",
       "\n",
       "   coverage  \n",
       "0       0.0  \n",
       "1       0.0  \n",
       "2       0.0  \n",
       "3       0.0  \n",
       "4       0.0  "
      ]
     },
     "execution_count": 82,
     "metadata": {},
     "output_type": "execute_result"
    }
   ],
   "source": [
    "performance.head()"
   ]
  },
  {
   "cell_type": "markdown",
   "metadata": {},
   "source": [
    "We can visualize cross validation performance metrics with plot_cross_validation_metric."
   ]
  },
  {
   "cell_type": "code",
   "execution_count": 83,
   "metadata": {
    "scrolled": false
   },
   "outputs": [
    {
     "data": {
      "image/png": "[encoded data removed]",
      "text/plain": [
       "<Figure size 720x432 with 1 Axes>"
      ]
     },
     "metadata": {},
     "output_type": "display_data"
    }
   ],
   "source": [
    "performance_mse = plot_cross_validation_metric(cross_validate_df, metric='mse')"
   ]
  },
  {
   "cell_type": "code",
   "execution_count": 84,
   "metadata": {},
   "outputs": [
    {
     "data": {
      "image/png": "[encoded data removed]",
      "text/plain": [
       "<Figure size 720x432 with 1 Axes>"
      ]
     },
     "metadata": {},
     "output_type": "display_data"
    }
   ],
   "source": [
    "performance_rmse = plot_cross_validation_metric(cross_validate_df, metric='rmse')"
   ]
  },
  {
   "cell_type": "code",
   "execution_count": 85,
   "metadata": {},
   "outputs": [
    {
     "data": {
      "image/png": "[encoded data removed]",
      "text/plain": [
       "<Figure size 720x432 with 1 Axes>"
      ]
     },
     "metadata": {},
     "output_type": "display_data"
    }
   ],
   "source": [
    "performance_mae = plot_cross_validation_metric(cross_validate_df, metric='mae')"
   ]
  }
 ],
 "metadata": {
  "kernelspec": {
   "display_name": "Python 3",
   "language": "python",
   "name": "python3"
  },
  "language_info": {
   "codemirror_mode": {
    "name": "ipython",
    "version": 3
   },
   "file_extension": ".py",
   "mimetype": "text/x-python",
   "name": "python",
   "nbconvert_exporter": "python",
   "pygments_lexer": "ipython3",
   "version": "3.8.6"
  }
 },
 "nbformat": 4,
 "nbformat_minor": 4
}
